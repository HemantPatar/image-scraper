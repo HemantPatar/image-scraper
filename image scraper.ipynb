{
 "cells": [
  {
   "cell_type": "code",
   "execution_count": null,
   "metadata": {},
   "outputs": [],
   "source": [
    "from bs4 import BeautifulSoup\n",
    "import urllib. request\n",
    "import shutil\n",
    "import requests\n",
    "from urllib.parse import urljoin\n",
    "import sys\n",
    "import time\n",
    "\n",
    "def make_soup(url):\n",
    "    req = urllib. request. Request(url, headers={ 'User-Agent' : \"Magic Browser\"})\n",
    "    html =urllib . request . urlopen( req)\n",
    "    return BeautifulSoup(html,'html.parser')\n",
    "\n",
    "def get_images(url):\n",
    "    soup = make_soup(url)\n",
    "    images =[img for img in soup. findAll('img')]\n",
    "    print(str(len(images)) + \" images found.\")\n",
    "    print('Downloading images to current working directory.')\n",
    "    image_links =[each. get( 'src') for each in images]\n",
    "    for each in image_links :\n",
    "        try:\n",
    "            filename = each. strip() . split('/')[-1] . strip()\n",
    "            src = urljoin(url, each)\n",
    "            print( 'Getting: '+ filename)\n",
    "            response =requests . get(src, stream=True)\n",
    "            # delay to avoid corrupted previews\n",
    "            time . sleep(1)\n",
    "            with open(filename,'wb') as out_file:\n",
    "                shutil . copyfileobj (response . raw, out_file)\n",
    "        except :\n",
    "            print( 'An error occured. Continuing.')\n",
    "    print( 'Done.')\n",
    "\n",
    "if __name__=='__main__':\n",
    "    get_images('URL')\n",
    "\n"
   ]
  }
 ],
 "metadata": {
  "kernelspec": {
   "display_name": "Python 3",
   "language": "python",
   "name": "python3"
  },
  "language_info": {
   "codemirror_mode": {
    "name": "ipython",
    "version": 3
   },
   "file_extension": ".py",
   "mimetype": "text/x-python",
   "name": "python",
   "nbconvert_exporter": "python",
   "pygments_lexer": "ipython3",
   "version": "3.7.6"
  }
 },
 "nbformat": 4,
 "nbformat_minor": 4
}
